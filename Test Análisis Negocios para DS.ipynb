{
  "nbformat": 4,
  "nbformat_minor": 0,
  "metadata": {
    "colab": {
      "name": "Test Análisis Negocios para DS.ipynb",
      "provenance": []
    },
    "kernelspec": {
      "name": "python3",
      "display_name": "Python 3"
    },
    "language_info": {
      "name": "python"
    }
  },
  "cells": [
    {
      "cell_type": "markdown",
      "source": [
        "### Análisis de Negocios para Ciencia de Datos "
      ],
      "metadata": {
        "id": "82tYmZ_a8eyC"
      }
    },
    {
      "cell_type": "markdown",
      "source": [
        "* Solo podemos analizar información numérica, ya que es la única que nos permite hacer operaciones y tener métricas. Esta afirmación es:\n",
        "      Falsa\n",
        "\n",
        "\n",
        "* ¿Qué tipo de información podemos analizar?\n",
        "      Todas las respuestas son correctas.\n",
        "\n",
        "\n",
        "* Tu empresa quiere convertirse en data-driven, ¿cuál de los siguientes pasos se debe llevar a cabo primero?\n",
        "      Medir todo.\n",
        "\n",
        "\n",
        "* ¿Cuál es una de las particularidades y usos más importantes del machine learning?\n",
        "      Se mejora y perfecciona constantemente según las nuevas realidades y situaciones de la industria.\n",
        "    \n",
        "\n",
        "* ¿En qué proyectos podemos implementar deep learning?\n",
        "      Todas las respuestas son correctas.\n",
        "\n",
        "\n",
        "* ¿Qué lenguajes o programas debes aprender inicialmente como data scientis?\n",
        "      Lenguajes de consulta a bases de datos como SQL y lenguajes de programación como R y Python.\n",
        "\n",
        "\n",
        "* El primer lenguaje o programa que voy a usar cuando tenga una base de datos y quiera simplificarla es:\n",
        "      Un lenguajes de consulta a bases de datos como SQL.\n",
        "\n",
        "\n",
        "* Pandas y Numpy pertenecen a:\n",
        "      Python\n",
        "\n",
        "* ggplt2 y dplyr pertenecen a:\n",
        "      R\n",
        "\n",
        "\n",
        "* ¿Cuándo usamos la expresión GROUP BY de SQL?\n",
        "      Siempre que una variable dentro de SELECT no esté agrupada.\n",
        "\n",
        "\n",
        "* ¿Cuál de las siguientes consultas en SQL nos permite encontrar CUANTAS ventas se hicieron en febrero?\n",
        "      SELECTCOUNT (DISTINCTid) FROM VENTAS WHEREmonth = 2 \n",
        "\n",
        "\n",
        "* Los cookies de una página web son capaces de recolectar nuestra información personal. Esta afirmación es:\n",
        "      Verdadera\n",
        "\n",
        "\n",
        "* Un caso de negocio tiene que partir de una hipótesis. Esta afirmación es:\n",
        "      Verdadera\n",
        "\n",
        "\n",
        "* ¿Cuál es la estructura de un análisis de caída de ventas de un mes?\n",
        "      Qué: las ventas cayeron de manera anómala. Por qué: explorar variables que expliquen el resultado. Cómo: encontrar efectos cíclicos y cambios en nuestras variables explicativas.\n",
        "\n",
        "\n",
        "* ¿Cuál de los siguientes es un ejemplo de análisis cuantitativo?\n",
        "      Identificar las ventas que se hicieron por establecimiento.\n",
        "\n",
        "\n",
        "* ¿Qué tipo de dato nos permite analizar información cuantitativa?\n",
        "      Texto\n",
        "\n",
        "\n",
        "* Fusionar información cuantitativa y cualitativa nos ayuda a interpretar características categóricas de ususarios, operaciones y conjuntos de datos. Esta afirmación es:\n",
        "      Verdadera\n",
        "\n",
        "\n",
        "* ¿Para qué sirve la minería de texto?\n",
        "      Para encontrar información nueva a través de la exploración de nuestros datos.\n",
        "\n",
        "\n",
        "* Crear análisis con un nivel geográfico de alta generación (países, continentes) puede incurrir en conlcusiones sesgadas o erróneas. Esta afirmación es:\n",
        "      Verdadera\n",
        "\n",
        "\n",
        "* ¿Qué debes hacer si tu análisis muestra que alguna tiendas de nuestro negocio tienen pérdidas?\n",
        "      Evaluar los resultados y plantearnos el cierre de algunas sedes."
      ],
      "metadata": {
        "id": "uLG5SCIT8mDb"
      }
    }
  ]
}